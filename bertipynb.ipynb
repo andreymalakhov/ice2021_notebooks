{
  "nbformat": 4,
  "nbformat_minor": 0,
  "metadata": {
    "colab": {
      "name": "bertipynb",
      "provenance": [],
      "collapsed_sections": []
    },
    "kernelspec": {
      "name": "python3",
      "display_name": "Python 3"
    },
    "language_info": {
      "name": "python"
    },
    "accelerator": "GPU",
    "widgets": {
      "application/vnd.jupyter.widget-state+json": {
        "36fd285c48a44fb9a99f4ce774d0d746": {
          "model_module": "@jupyter-widgets/controls",
          "model_name": "HBoxModel",
          "state": {
            "_view_name": "HBoxView",
            "_dom_classes": [],
            "_model_name": "HBoxModel",
            "_view_module": "@jupyter-widgets/controls",
            "_model_module_version": "1.5.0",
            "_view_count": null,
            "_view_module_version": "1.5.0",
            "box_style": "",
            "layout": "IPY_MODEL_94cc4a9ccf6f4b088fc2af350f176aba",
            "_model_module": "@jupyter-widgets/controls",
            "children": [
              "IPY_MODEL_6930ec9492f44309b86ba6812da8377a",
              "IPY_MODEL_bd18cbc5eb0f43a18485f184e08b5328"
            ]
          }
        },
        "94cc4a9ccf6f4b088fc2af350f176aba": {
          "model_module": "@jupyter-widgets/base",
          "model_name": "LayoutModel",
          "state": {
            "_view_name": "LayoutView",
            "grid_template_rows": null,
            "right": null,
            "justify_content": null,
            "_view_module": "@jupyter-widgets/base",
            "overflow": null,
            "_model_module_version": "1.2.0",
            "_view_count": null,
            "flex_flow": null,
            "width": null,
            "min_width": null,
            "border": null,
            "align_items": null,
            "bottom": null,
            "_model_module": "@jupyter-widgets/base",
            "top": null,
            "grid_column": null,
            "overflow_y": null,
            "overflow_x": null,
            "grid_auto_flow": null,
            "grid_area": null,
            "grid_template_columns": null,
            "flex": null,
            "_model_name": "LayoutModel",
            "justify_items": null,
            "grid_row": null,
            "max_height": null,
            "align_content": null,
            "visibility": null,
            "align_self": null,
            "height": null,
            "min_height": null,
            "padding": null,
            "grid_auto_rows": null,
            "grid_gap": null,
            "max_width": null,
            "order": null,
            "_view_module_version": "1.2.0",
            "grid_template_areas": null,
            "object_position": null,
            "object_fit": null,
            "grid_auto_columns": null,
            "margin": null,
            "display": null,
            "left": null
          }
        },
        "6930ec9492f44309b86ba6812da8377a": {
          "model_module": "@jupyter-widgets/controls",
          "model_name": "FloatProgressModel",
          "state": {
            "_view_name": "ProgressView",
            "style": "IPY_MODEL_e0e2cff49298441c86fad03b8f61277e",
            "_dom_classes": [],
            "description": "",
            "_model_name": "FloatProgressModel",
            "bar_style": "success",
            "max": 1,
            "_view_module": "@jupyter-widgets/controls",
            "_model_module_version": "1.5.0",
            "value": 1,
            "_view_count": null,
            "_view_module_version": "1.5.0",
            "orientation": "horizontal",
            "min": 0,
            "description_tooltip": null,
            "_model_module": "@jupyter-widgets/controls",
            "layout": "IPY_MODEL_31e9cf67950f4923810f9c5e4c3464d6"
          }
        },
        "bd18cbc5eb0f43a18485f184e08b5328": {
          "model_module": "@jupyter-widgets/controls",
          "model_name": "HTMLModel",
          "state": {
            "_view_name": "HTMLView",
            "style": "IPY_MODEL_3195209f1308491c879071892c4c4190",
            "_dom_classes": [],
            "description": "",
            "_model_name": "HTMLModel",
            "placeholder": "​",
            "_view_module": "@jupyter-widgets/controls",
            "_model_module_version": "1.5.0",
            "value": " 90/? [01:15&lt;00:00,  1.20it/s]",
            "_view_count": null,
            "_view_module_version": "1.5.0",
            "description_tooltip": null,
            "_model_module": "@jupyter-widgets/controls",
            "layout": "IPY_MODEL_721ce4d7ae6f4086bc9f1f232f1b6bdb"
          }
        },
        "e0e2cff49298441c86fad03b8f61277e": {
          "model_module": "@jupyter-widgets/controls",
          "model_name": "ProgressStyleModel",
          "state": {
            "_view_name": "StyleView",
            "_model_name": "ProgressStyleModel",
            "description_width": "initial",
            "_view_module": "@jupyter-widgets/base",
            "_model_module_version": "1.5.0",
            "_view_count": null,
            "_view_module_version": "1.2.0",
            "bar_color": null,
            "_model_module": "@jupyter-widgets/controls"
          }
        },
        "31e9cf67950f4923810f9c5e4c3464d6": {
          "model_module": "@jupyter-widgets/base",
          "model_name": "LayoutModel",
          "state": {
            "_view_name": "LayoutView",
            "grid_template_rows": null,
            "right": null,
            "justify_content": null,
            "_view_module": "@jupyter-widgets/base",
            "overflow": null,
            "_model_module_version": "1.2.0",
            "_view_count": null,
            "flex_flow": null,
            "width": null,
            "min_width": null,
            "border": null,
            "align_items": null,
            "bottom": null,
            "_model_module": "@jupyter-widgets/base",
            "top": null,
            "grid_column": null,
            "overflow_y": null,
            "overflow_x": null,
            "grid_auto_flow": null,
            "grid_area": null,
            "grid_template_columns": null,
            "flex": null,
            "_model_name": "LayoutModel",
            "justify_items": null,
            "grid_row": null,
            "max_height": null,
            "align_content": null,
            "visibility": null,
            "align_self": null,
            "height": null,
            "min_height": null,
            "padding": null,
            "grid_auto_rows": null,
            "grid_gap": null,
            "max_width": null,
            "order": null,
            "_view_module_version": "1.2.0",
            "grid_template_areas": null,
            "object_position": null,
            "object_fit": null,
            "grid_auto_columns": null,
            "margin": null,
            "display": null,
            "left": null
          }
        },
        "3195209f1308491c879071892c4c4190": {
          "model_module": "@jupyter-widgets/controls",
          "model_name": "DescriptionStyleModel",
          "state": {
            "_view_name": "StyleView",
            "_model_name": "DescriptionStyleModel",
            "description_width": "",
            "_view_module": "@jupyter-widgets/base",
            "_model_module_version": "1.5.0",
            "_view_count": null,
            "_view_module_version": "1.2.0",
            "_model_module": "@jupyter-widgets/controls"
          }
        },
        "721ce4d7ae6f4086bc9f1f232f1b6bdb": {
          "model_module": "@jupyter-widgets/base",
          "model_name": "LayoutModel",
          "state": {
            "_view_name": "LayoutView",
            "grid_template_rows": null,
            "right": null,
            "justify_content": null,
            "_view_module": "@jupyter-widgets/base",
            "overflow": null,
            "_model_module_version": "1.2.0",
            "_view_count": null,
            "flex_flow": null,
            "width": null,
            "min_width": null,
            "border": null,
            "align_items": null,
            "bottom": null,
            "_model_module": "@jupyter-widgets/base",
            "top": null,
            "grid_column": null,
            "overflow_y": null,
            "overflow_x": null,
            "grid_auto_flow": null,
            "grid_area": null,
            "grid_template_columns": null,
            "flex": null,
            "_model_name": "LayoutModel",
            "justify_items": null,
            "grid_row": null,
            "max_height": null,
            "align_content": null,
            "visibility": null,
            "align_self": null,
            "height": null,
            "min_height": null,
            "padding": null,
            "grid_auto_rows": null,
            "grid_gap": null,
            "max_width": null,
            "order": null,
            "_view_module_version": "1.2.0",
            "grid_template_areas": null,
            "object_position": null,
            "object_fit": null,
            "grid_auto_columns": null,
            "margin": null,
            "display": null,
            "left": null
          }
        }
      }
    }
  },
  "cells": [
    {
      "cell_type": "code",
      "metadata": {
        "id": "UtbK1qFhoqQa"
      },
      "source": [
        "!pip install transformers datasets\n",
        "!pip install pip install pytorch-lightning"
      ],
      "execution_count": null,
      "outputs": []
    },
    {
      "cell_type": "code",
      "metadata": {
        "id": "6kvZZu62oLZQ"
      },
      "source": [
        "import re\n",
        "\n",
        "from transformers import BertForSequenceClassification, BertConfig, BertTokenizer, AdamW,get_linear_schedule_with_warmup\n",
        "from tqdm.notebook import tqdm\n",
        "import pytorch_lightning as pl\n",
        "import torch \n",
        "from torch.utils.data import DataLoader, Dataset\n",
        "from pathlib import Path\n",
        "from pytorch_lightning.callbacks import EarlyStopping, ModelCheckpoint\n",
        "import pandas as pd\n",
        "import numpy as np\n",
        "from sklearn.model_selection import train_test_split\n",
        "from sklearn.metrics import roc_auc_score, confusion_matrix, f1_score\n",
        "import datasets\n"
      ],
      "execution_count": 82,
      "outputs": []
    },
    {
      "cell_type": "code",
      "metadata": {
        "id": "AvOOEUE8p8zV"
      },
      "source": [
        "def transform_text(text):\n",
        "  text = text.lower()\n",
        "  text = re.sub('[^A-Za-z0-9 ]+', '', text)\n",
        "  text = re.sub('\\s+(a|is|be|will|the|was|were|have|has|are|been|s|ll)\\s+', '', text)\n",
        "  return text\n",
        "\n",
        "def create_documents_list(l):\n",
        "  temp_vocab = [i.split(' ') for i in l]\n",
        "  documents_list = [[j for j in i if len(j)>0] for i in temp_vocab]\n",
        "  return documents_list"
      ],
      "execution_count": 83,
      "outputs": []
    },
    {
      "cell_type": "code",
      "metadata": {
        "colab": {
          "base_uri": "https://localhost:8080/"
        },
        "id": "wxSwca_JoWkY",
        "outputId": "292ba940-7ed2-48c1-aa8f-fe3c376eb3c1"
      },
      "source": [
        "dataset = datasets.load_dataset(\"tweet_eval\", \"irony\")\n",
        "\n",
        "df_train = dataset[\"train\"].to_pandas()\n",
        "df_val = dataset[\"validation\"].to_pandas()\n",
        "df_test = dataset[\"test\"].to_pandas()\n",
        "\n",
        "df_train[\"clean_text\"] = df_train.text.apply(lambda x: transform_text(x))\n",
        "df_test[\"clean_text\"] = df_test.text.apply(lambda x: transform_text(x))\n",
        "df_val[\"clean_text\"] = df_val.text.apply(lambda x: transform_text(x))"
      ],
      "execution_count": 84,
      "outputs": [
        {
          "output_type": "stream",
          "text": [
            "Reusing dataset tweet_eval (/root/.cache/huggingface/datasets/tweet_eval/irony/1.1.0/12aee5282b8784f3e95459466db4cdf45c6bf49719c25cdb0743d71ed0410343)\n"
          ],
          "name": "stderr"
        }
      ]
    },
    {
      "cell_type": "code",
      "metadata": {
        "colab": {
          "base_uri": "https://localhost:8080/"
        },
        "id": "WOM6uK_SwPKT",
        "outputId": "58b3d8dd-23e5-4d76-e268-a397e3f7e9ee"
      },
      "source": [
        "config = BertConfig.from_pretrained('bert-base-uncased')\n",
        "config"
      ],
      "execution_count": 85,
      "outputs": [
        {
          "output_type": "execute_result",
          "data": {
            "text/plain": [
              "BertConfig {\n",
              "  \"architectures\": [\n",
              "    \"BertForMaskedLM\"\n",
              "  ],\n",
              "  \"attention_probs_dropout_prob\": 0.1,\n",
              "  \"gradient_checkpointing\": false,\n",
              "  \"hidden_act\": \"gelu\",\n",
              "  \"hidden_dropout_prob\": 0.1,\n",
              "  \"hidden_size\": 768,\n",
              "  \"initializer_range\": 0.02,\n",
              "  \"intermediate_size\": 3072,\n",
              "  \"layer_norm_eps\": 1e-12,\n",
              "  \"max_position_embeddings\": 512,\n",
              "  \"model_type\": \"bert\",\n",
              "  \"num_attention_heads\": 12,\n",
              "  \"num_hidden_layers\": 12,\n",
              "  \"pad_token_id\": 0,\n",
              "  \"position_embedding_type\": \"absolute\",\n",
              "  \"transformers_version\": \"4.8.2\",\n",
              "  \"type_vocab_size\": 2,\n",
              "  \"use_cache\": true,\n",
              "  \"vocab_size\": 30522\n",
              "}"
            ]
          },
          "metadata": {
            "tags": []
          },
          "execution_count": 85
        }
      ]
    },
    {
      "cell_type": "code",
      "metadata": {
        "id": "mRlSLxt2plZR"
      },
      "source": [
        "tokenizer = BertTokenizer.from_pretrained('bert-base-uncased')\n",
        "config = BertConfig.from_pretrained('bert-base-uncased')\n",
        "config.num_labels = 2\n",
        "\n",
        "model = BertForSequenceClassification(config)\n",
        "model.to('cuda')\n",
        "\n",
        "class tweet_dataset(Dataset):\n",
        "  def __init__(self, df, tokenizer, train=True, max_len=256):\n",
        "    self.tokenizer = tokenizer\n",
        "    self.train_flag = train\n",
        "    self.ids = df.index.to_list()\n",
        "    self.text = df.clean_text.values\n",
        "    self.max_len = max_len\n",
        "\n",
        "    if train is False:\n",
        "        self.label = None\n",
        "    else:\n",
        "        self.label = df.label.values\n",
        "\n",
        "  def __getitem__(self, i):\n",
        "    id = self.ids[i]\n",
        "    text = self.text[i]\n",
        "    tokenized_text = self.tokenizer(text, return_tensors=\"pt\", padding='max_length', max_length=self.max_len)\n",
        "\n",
        "    if self.train_flag is True:\n",
        "        return {\"tokenized_text\": tokenized_text, 'label': self.label[i], \"text\": text, \"id\": id}\n",
        "    else:\n",
        "        return {\"tokenized_text\": tokenized_text, \"text\": text, \"id\": id}\n",
        "\n",
        "  def __len__(self):\n",
        "      return len(self.ids)\n",
        "\n"
      ],
      "execution_count": 86,
      "outputs": []
    },
    {
      "cell_type": "code",
      "metadata": {
        "id": "g11zsFEhrTMj"
      },
      "source": [
        "train_dataset = tweet_dataset(df_train, tokenizer)\n",
        "val_dataset = tweet_dataset(df_val, tokenizer, train=False)\n",
        "test_dataset = tweet_dataset(df_test, tokenizer, train=False)\n",
        "\n",
        "def inference(model, data):\n",
        "  data_loader_test = DataLoader(data, shuffle=False, batch_size=32, num_workers=0)\n",
        "  temp_result_list = []\n",
        "  # inference the model\n",
        "  for i, x_batch in tqdm(enumerate(data_loader_test)):\n",
        "    x_batch  = x_batch['tokenized_text']['input_ids'][:,0,:]\n",
        "    x_batch = x_batch.to('cuda')\n",
        "    with torch.no_grad():\n",
        "      pred = model(x_batch)\n",
        "      batch_pred = torch.nn.functional.softmax(pred[0]).detach().cpu().numpy()\n",
        "    temp_result_list.append(batch_pred)\n",
        "\n",
        "  result_array = np.concatenate(temp_result_list)\n",
        "  return result_array"
      ],
      "execution_count": 98,
      "outputs": []
    },
    {
      "cell_type": "code",
      "metadata": {
        "colab": {
          "base_uri": "https://localhost:8080/",
          "height": 117,
          "referenced_widgets": [
            "36fd285c48a44fb9a99f4ce774d0d746",
            "94cc4a9ccf6f4b088fc2af350f176aba",
            "6930ec9492f44309b86ba6812da8377a",
            "bd18cbc5eb0f43a18485f184e08b5328",
            "e0e2cff49298441c86fad03b8f61277e",
            "31e9cf67950f4923810f9c5e4c3464d6",
            "3195209f1308491c879071892c4c4190",
            "721ce4d7ae6f4086bc9f1f232f1b6bdb"
          ]
        },
        "id": "MopNLEgjr9tV",
        "outputId": "a1aae957-e85d-4697-dc6a-39d1c4e0ee45"
      },
      "source": [
        "result_array = inference(model, test_dataset)\n",
        "f1_score(df_test.label, result_array[:,0]>0.5)"
      ],
      "execution_count": 100,
      "outputs": [
        {
          "output_type": "display_data",
          "data": {
            "application/vnd.jupyter.widget-view+json": {
              "model_id": "36fd285c48a44fb9a99f4ce774d0d746",
              "version_minor": 0,
              "version_major": 2
            },
            "text/plain": [
              "HBox(children=(FloatProgress(value=1.0, bar_style='info', max=1.0), HTML(value='')))"
            ]
          },
          "metadata": {
            "tags": []
          }
        },
        {
          "output_type": "stream",
          "text": [
            "/usr/local/lib/python3.7/dist-packages/ipykernel_launcher.py:14: UserWarning: Implicit dimension choice for softmax has been deprecated. Change the call to include dim=X as an argument.\n",
            "  \n"
          ],
          "name": "stderr"
        },
        {
          "output_type": "stream",
          "text": [
            "\n"
          ],
          "name": "stdout"
        },
        {
          "output_type": "execute_result",
          "data": {
            "text/plain": [
              "0.6699255121042831"
            ]
          },
          "metadata": {
            "tags": []
          },
          "execution_count": 100
        }
      ]
    },
    {
      "cell_type": "code",
      "metadata": {
        "id": "I398NLTqs8HP"
      },
      "source": [
        ""
      ],
      "execution_count": null,
      "outputs": []
    }
  ]
}